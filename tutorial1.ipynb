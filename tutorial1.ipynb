{
  "nbformat": 4,
  "nbformat_minor": 0,
  "metadata": {
    "colab": {
      "provenance": [],
      "gpuType": "T4",
      "authorship_tag": "ABX9TyNf3+H8ikC/Txgf9odZZesM",
      "include_colab_link": true
    },
    "kernelspec": {
      "name": "python3",
      "display_name": "Python 3"
    },
    "language_info": {
      "name": "python"
    },
    "accelerator": "GPU",
    "gpuClass": "standard"
  },
  "cells": [
    {
      "cell_type": "markdown",
      "metadata": {
        "id": "view-in-github",
        "colab_type": "text"
      },
      "source": [
        "<a href=\"https://colab.research.google.com/github/jaeohshin/keras/blob/main/tutorial1.ipynb\" target=\"_parent\"><img src=\"https://colab.research.google.com/assets/colab-badge.svg\" alt=\"Open In Colab\"/></a>"
      ]
    },
    {
      "cell_type": "code",
      "execution_count": null,
      "metadata": {
        "id": "79Fyb2XZL72s"
      },
      "outputs": [],
      "source": []
    },
    {
      "cell_type": "code",
      "source": [
        "import tensorflow as tf\n",
        "x = tf.ones(shape=(2, 1))\n",
        "print(x)"
      ],
      "metadata": {
        "colab": {
          "base_uri": "https://localhost:8080/"
        },
        "id": "e3X7ghNWPEFJ",
        "outputId": "688000a7-c923-4777-8d0c-097b31f89cab"
      },
      "execution_count": 1,
      "outputs": [
        {
          "output_type": "stream",
          "name": "stdout",
          "text": [
            "tf.Tensor(\n",
            "[[1.]\n",
            " [1.]], shape=(2, 1), dtype=float32)\n"
          ]
        }
      ]
    },
    {
      "cell_type": "code",
      "source": [
        "x = tf.zeros(shape=(2, 1))\n",
        "print(x)\n",
        "type(x)"
      ],
      "metadata": {
        "colab": {
          "base_uri": "https://localhost:8080/"
        },
        "id": "VSQ5RA88PKFt",
        "outputId": "f0e9b285-dc10-4132-e348-f2fce94bce11"
      },
      "execution_count": 2,
      "outputs": [
        {
          "output_type": "stream",
          "name": "stdout",
          "text": [
            "tf.Tensor(\n",
            "[[0.]\n",
            " [0.]], shape=(2, 1), dtype=float32)\n"
          ]
        },
        {
          "output_type": "execute_result",
          "data": {
            "text/plain": [
              "tensorflow.python.framework.ops.EagerTensor"
            ]
          },
          "metadata": {},
          "execution_count": 2
        }
      ]
    },
    {
      "cell_type": "code",
      "source": [
        "x = tf.random.normal(shape=(5, 3), mean = 100., stddev=15.)\n",
        "print(x)"
      ],
      "metadata": {
        "colab": {
          "base_uri": "https://localhost:8080/"
        },
        "id": "neNeOJzwPgTZ",
        "outputId": "219acc66-664d-4d3a-920b-182bf62a5aee"
      },
      "execution_count": 3,
      "outputs": [
        {
          "output_type": "stream",
          "name": "stdout",
          "text": [
            "tf.Tensor(\n",
            "[[ 89.15847   97.41935  101.57151 ]\n",
            " [102.064255 112.274666 110.65499 ]\n",
            " [103.40687  115.51243   81.14862 ]\n",
            " [114.868774  72.09801   88.75982 ]\n",
            " [ 94.43213  109.74302  108.48897 ]], shape=(5, 3), dtype=float32)\n"
          ]
        }
      ]
    },
    {
      "cell_type": "code",
      "source": [
        "x = tf.ones(shape=(2, 2))\n"
      ],
      "metadata": {
        "id": "NDcZuhvrPoOR"
      },
      "execution_count": 5,
      "outputs": []
    },
    {
      "cell_type": "code",
      "source": [
        "v = tf.Variable(initial_value=tf.random.normal(shape=(3,1)))\n",
        "print(v)"
      ],
      "metadata": {
        "colab": {
          "base_uri": "https://localhost:8080/"
        },
        "id": "aHPLqvTKP97g",
        "outputId": "9c968a12-21ce-495f-de0f-204404ad1a9d"
      },
      "execution_count": 6,
      "outputs": [
        {
          "output_type": "stream",
          "name": "stdout",
          "text": [
            "<tf.Variable 'Variable:0' shape=(3, 1) dtype=float32, numpy=\n",
            "array([[0.4385547],\n",
            "       [0.9642575],\n",
            "       [1.3297579]], dtype=float32)>\n"
          ]
        }
      ]
    },
    {
      "cell_type": "code",
      "source": [
        "v.assign(tf.ones((3, 1)))"
      ],
      "metadata": {
        "colab": {
          "base_uri": "https://localhost:8080/"
        },
        "id": "CgBr_lRPQaWA",
        "outputId": "27f6d2c1-13da-40c1-9ee4-9994f0f965e4"
      },
      "execution_count": 7,
      "outputs": [
        {
          "output_type": "execute_result",
          "data": {
            "text/plain": [
              "<tf.Variable 'UnreadVariable' shape=(3, 1) dtype=float32, numpy=\n",
              "array([[1.],\n",
              "       [1.],\n",
              "       [1.]], dtype=float32)>"
            ]
          },
          "metadata": {},
          "execution_count": 7
        }
      ]
    },
    {
      "cell_type": "code",
      "source": [
        "v"
      ],
      "metadata": {
        "colab": {
          "base_uri": "https://localhost:8080/"
        },
        "id": "ApnBsZPUQdPN",
        "outputId": "27b88499-f3fb-4ced-8b30-387f61bd227d"
      },
      "execution_count": 8,
      "outputs": [
        {
          "output_type": "execute_result",
          "data": {
            "text/plain": [
              "<tf.Variable 'Variable:0' shape=(3, 1) dtype=float32, numpy=\n",
              "array([[1.],\n",
              "       [1.],\n",
              "       [1.]], dtype=float32)>"
            ]
          },
          "metadata": {},
          "execution_count": 8
        }
      ]
    },
    {
      "cell_type": "code",
      "source": [
        "print(v)"
      ],
      "metadata": {
        "colab": {
          "base_uri": "https://localhost:8080/"
        },
        "id": "wD_-vf83Qeio",
        "outputId": "12e9cd6d-38b1-45ab-dd63-d9a07e757c94"
      },
      "execution_count": 9,
      "outputs": [
        {
          "output_type": "stream",
          "name": "stdout",
          "text": [
            "<tf.Variable 'Variable:0' shape=(3, 1) dtype=float32, numpy=\n",
            "array([[1.],\n",
            "       [1.],\n",
            "       [1.]], dtype=float32)>\n"
          ]
        }
      ]
    },
    {
      "cell_type": "code",
      "source": [
        "type(v)"
      ],
      "metadata": {
        "colab": {
          "base_uri": "https://localhost:8080/"
        },
        "id": "53kMsA8OQf7U",
        "outputId": "de078b0e-cdc2-4d78-f8df-c793b429d9f4"
      },
      "execution_count": 10,
      "outputs": [
        {
          "output_type": "execute_result",
          "data": {
            "text/plain": [
              "tensorflow.python.ops.resource_variable_ops.ResourceVariable"
            ]
          },
          "metadata": {},
          "execution_count": 10
        }
      ]
    },
    {
      "cell_type": "code",
      "source": [
        "v[0, 0].assign(3000000)"
      ],
      "metadata": {
        "id": "c0aGeBJrQohc"
      },
      "execution_count": null,
      "outputs": []
    },
    {
      "cell_type": "code",
      "source": [
        "print(v)"
      ],
      "metadata": {
        "id": "2GrbOTSRQ9yh"
      },
      "execution_count": null,
      "outputs": []
    },
    {
      "cell_type": "code",
      "source": [
        "v.assign_add(tf.ones((3, 2)))"
      ],
      "metadata": {
        "id": "OlN_YhzFQ-mV"
      },
      "execution_count": null,
      "outputs": []
    },
    {
      "cell_type": "code",
      "source": [
        "tf.ones"
      ],
      "metadata": {
        "id": "0tK-AMEqRO1W"
      },
      "execution_count": null,
      "outputs": []
    },
    {
      "cell_type": "code",
      "source": [
        "a = tf.ones(2)"
      ],
      "metadata": {
        "id": "XyB4YAWiRSdA"
      },
      "execution_count": null,
      "outputs": []
    },
    {
      "cell_type": "code",
      "source": [
        "print(a)"
      ],
      "metadata": {
        "id": "lgm1v4uHTbsU"
      },
      "execution_count": null,
      "outputs": []
    },
    {
      "cell_type": "code",
      "source": [
        "a = tf.ones((2,2))"
      ],
      "metadata": {
        "id": "qdSYiTa3Tc7g"
      },
      "execution_count": null,
      "outputs": []
    },
    {
      "cell_type": "code",
      "source": [
        "print(a)"
      ],
      "metadata": {
        "id": "BQLIEYKdTgvw"
      },
      "execution_count": null,
      "outputs": []
    },
    {
      "cell_type": "code",
      "source": [
        "b = tf.square(a)\n",
        "c = tf.sqrt(a)\n",
        "d= b + c\n",
        "e = tf.matmul(a, b)"
      ],
      "metadata": {
        "id": "SGf461PRTh-Q"
      },
      "execution_count": null,
      "outputs": []
    },
    {
      "cell_type": "code",
      "source": [
        "print(b)"
      ],
      "metadata": {
        "id": "P_WSfutgT7O3"
      },
      "execution_count": null,
      "outputs": []
    },
    {
      "cell_type": "code",
      "source": [
        "print(c)"
      ],
      "metadata": {
        "id": "cqnjM7EAUFuR"
      },
      "execution_count": null,
      "outputs": []
    },
    {
      "cell_type": "code",
      "source": [
        "print(d)"
      ],
      "metadata": {
        "id": "wcs_rmofUHHg"
      },
      "execution_count": null,
      "outputs": []
    },
    {
      "cell_type": "code",
      "source": [
        "print(e)"
      ],
      "metadata": {
        "id": "lMx1XWU7UINL"
      },
      "execution_count": null,
      "outputs": []
    },
    {
      "cell_type": "code",
      "source": [
        "e *= d"
      ],
      "metadata": {
        "id": "o5A0lYMHUJww"
      },
      "execution_count": null,
      "outputs": []
    },
    {
      "cell_type": "code",
      "source": [
        "input_var = tf.Variable(initial_value=3.)\n",
        "with tf.GradientTape() as tape:\n",
        "  result = tf.sqrt(input_var)\n",
        "gradient = tape.gradient(result, input_var)\n",
        "\n",
        "print(gradient)"
      ],
      "metadata": {
        "id": "2P3KSzHdUQ00"
      },
      "execution_count": null,
      "outputs": []
    },
    {
      "cell_type": "code",
      "source": [
        "time = tf.Variable(0.)\n",
        "with tf.GradientTape() as outer_tape:\n",
        "  with tf.GradientTape() as inner_tape:\n",
        "    position = 4.9 * time ** 2\n",
        "  speed = inner_tape.gradient(position, time)\n",
        "acceleration = outer_tape.gradient(speed, time)"
      ],
      "metadata": {
        "id": "HK7FCtLXVSO5"
      },
      "execution_count": null,
      "outputs": []
    },
    {
      "cell_type": "markdown",
      "source": [],
      "metadata": {
        "id": "x_g-l5xyZuBx"
      }
    },
    {
      "cell_type": "code",
      "source": [
        "print(speed)"
      ],
      "metadata": {
        "id": "qp5LxE8zXcLR"
      },
      "execution_count": null,
      "outputs": []
    },
    {
      "cell_type": "code",
      "source": [
        "print(acceleration)"
      ],
      "metadata": {
        "id": "ylnc1ad4XedV"
      },
      "execution_count": null,
      "outputs": []
    },
    {
      "cell_type": "markdown",
      "source": [
        "# Below is a linear classificier from scratch!"
      ],
      "metadata": {
        "id": "kcd2c600ZvRK"
      }
    },
    {
      "cell_type": "code",
      "source": [
        "import numpy as np\n",
        "from matplotlib import pyplot as plt\n",
        "\n",
        "num_samples_per_class = 1000\n",
        "negative_samples = np.random.multivariate_normal(mean=[0, 3], \n",
        "                    cov=[[1, 0.5], [0.5, 1]],\n",
        "                    size=num_samples_per_class)\n",
        "positive_samples = np.random.multivariate_normal(mean=[3, 0], \n",
        "                    cov=[[1, 0.5], [0.5, 1]],\n",
        "                    size=num_samples_per_class)"
      ],
      "metadata": {
        "id": "aQ5l3ZEKZ9FW"
      },
      "execution_count": 11,
      "outputs": []
    },
    {
      "cell_type": "code",
      "source": [
        "inputs = np.vstack((negative_samples, positive_samples)).astype(np.float32)"
      ],
      "metadata": {
        "id": "vIbBwK-IaebY"
      },
      "execution_count": 12,
      "outputs": []
    },
    {
      "cell_type": "code",
      "source": [
        "targets = np.vstack((np.zeros((num_samples_per_class, 1), dtype=\"float32\"),\n",
        "                     np.ones((num_samples_per_class, 1), dtype=\"float32\")))"
      ],
      "metadata": {
        "id": "Ej9BoITPc4DH"
      },
      "execution_count": 13,
      "outputs": []
    },
    {
      "cell_type": "code",
      "source": [
        "plt.scatter(inputs[:, 0], inputs[:,1], c=targets[:, 0])\n",
        "plt.show()"
      ],
      "metadata": {
        "colab": {
          "base_uri": "https://localhost:8080/",
          "height": 430
        },
        "id": "vOoOTMyGaspD",
        "outputId": "99250eba-6330-4ba4-ae8a-4c06c92297a2"
      },
      "execution_count": 14,
      "outputs": [
        {
          "output_type": "display_data",
          "data": {
            "text/plain": [
              "<Figure size 640x480 with 1 Axes>"
            ],
            "image/png": "[encoded data removed]"
          },
          "metadata": {}
        }
      ]
    },
    {
      "cell_type": "code",
      "source": [
        "input_dim = 2\n",
        "output_dim = 1\n",
        "W = tf.Variable(initial_value=tf.random.uniform(shape=(input_dim, output_dim)))\n",
        "b = tf.Variable(initial_value=tf.zeros(shape=(output_dim,)))"
      ],
      "metadata": {
        "id": "BdwsbxOZcdG0"
      },
      "execution_count": 15,
      "outputs": []
    },
    {
      "cell_type": "code",
      "source": [
        "def model(inputs):\n",
        "  return tf.matmul(inputs, W) + b"
      ],
      "metadata": {
        "id": "fLXoxaK9ex56"
      },
      "execution_count": 16,
      "outputs": []
    },
    {
      "cell_type": "code",
      "source": [
        "def square_loss(targets, predictions) :\n",
        "    per_sample_losses = tf.square(targets - predictions)\n",
        "    return tf.reduce_mean(per_sample_losses)"
      ],
      "metadata": {
        "id": "3YDVge_4e6KY"
      },
      "execution_count": 17,
      "outputs": []
    },
    {
      "cell_type": "code",
      "source": [
        "learning_rate = 0.1\n",
        "\n",
        "def training_step(inputs, targets):\n",
        "    with tf.GradientTape() as tape:\n",
        "        predictions = model(inputs)\n",
        "        loss = square_loss(targets, predictions)\n",
        "    grad_loss_wrt_W, grad_loss_wrt_b = tape.gradient(loss, [W, b])\n",
        "    W.assign_sub(grad_loss_wrt_W * learning_rate)\n",
        "    b.assign_sub(grad_loss_wrt_b * learning_rate)\n",
        "    return loss"
      ],
      "metadata": {
        "id": "xc6w-vcaggiL"
      },
      "execution_count": 20,
      "outputs": []
    },
    {
      "cell_type": "code",
      "source": [
        "for step in range(40):\n",
        "    loss = training_step(inputs, targets)\n",
        "    print(f\"Loss at step {step}: {loss:.4f}\")"
      ],
      "metadata": {
        "colab": {
          "base_uri": "https://localhost:8080/"
        },
        "id": "LX9wSTSahcDR",
        "outputId": "83254d5a-986d-439d-cbd3-f8bfcb68b48c"
      },
      "execution_count": 22,
      "outputs": [
        {
          "output_type": "stream",
          "name": "stdout",
          "text": [
            "Loss at step 0: 0.0952\n",
            "Loss at step 1: 0.0877\n",
            "Loss at step 2: 0.0821\n",
            "Loss at step 3: 0.0771\n",
            "Loss at step 4: 0.0727\n",
            "Loss at step 5: 0.0686\n",
            "Loss at step 6: 0.0649\n",
            "Loss at step 7: 0.0616\n",
            "Loss at step 8: 0.0585\n",
            "Loss at step 9: 0.0557\n",
            "Loss at step 10: 0.0531\n",
            "Loss at step 11: 0.0508\n",
            "Loss at step 12: 0.0487\n",
            "Loss at step 13: 0.0467\n",
            "Loss at step 14: 0.0450\n",
            "Loss at step 15: 0.0433\n",
            "Loss at step 16: 0.0419\n",
            "Loss at step 17: 0.0405\n",
            "Loss at step 18: 0.0393\n",
            "Loss at step 19: 0.0382\n",
            "Loss at step 20: 0.0372\n",
            "Loss at step 21: 0.0363\n",
            "Loss at step 22: 0.0354\n",
            "Loss at step 23: 0.0346\n",
            "Loss at step 24: 0.0339\n",
            "Loss at step 25: 0.0333\n",
            "Loss at step 26: 0.0327\n",
            "Loss at step 27: 0.0322\n",
            "Loss at step 28: 0.0317\n",
            "Loss at step 29: 0.0312\n",
            "Loss at step 30: 0.0308\n",
            "Loss at step 31: 0.0305\n",
            "Loss at step 32: 0.0301\n",
            "Loss at step 33: 0.0298\n",
            "Loss at step 34: 0.0296\n",
            "Loss at step 35: 0.0293\n",
            "Loss at step 36: 0.0291\n",
            "Loss at step 37: 0.0289\n",
            "Loss at step 38: 0.0287\n",
            "Loss at step 39: 0.0285\n"
          ]
        }
      ]
    },
    {
      "cell_type": "code",
      "source": [],
      "metadata": {
        "id": "JmnmB82_kkqx"
      },
      "execution_count": null,
      "outputs": []
    }
  ]
}