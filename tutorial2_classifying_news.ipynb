{
  "nbformat": 4,
  "nbformat_minor": 0,
  "metadata": {
    "colab": {
      "provenance": [],
      "gpuType": "T4",
      "authorship_tag": "ABX9TyPyHFRX6SdrGHKoLNw3v733",
      "include_colab_link": true
    },
    "kernelspec": {
      "name": "python3",
      "display_name": "Python 3"
    },
    "language_info": {
      "name": "python"
    },
    "accelerator": "GPU",
    "gpuClass": "standard"
  },
  "cells": [
    {
      "cell_type": "markdown",
      "metadata": {
        "id": "view-in-github",
        "colab_type": "text"
      },
      "source": [
        "<a href=\"https://colab.research.google.com/github/jaeohshin/keras/blob/main/tutorial2_classifying_news.ipynb\" target=\"_parent\"><img src=\"https://colab.research.google.com/assets/colab-badge.svg\" alt=\"Open In Colab\"/></a>"
      ]
    },
    {
      "cell_type": "code",
      "execution_count": null,
      "metadata": {
        "id": "pbWa28TTiTTN"
      },
      "outputs": [],
      "source": []
    },
    {
      "cell_type": "markdown",
      "source": [
        "Here ML for the classifying news articles based on the words.\n",
        "\n",
        "One news article can be one of 46 possible categories."
      ],
      "metadata": {
        "id": "9ew3k04yiri8"
      }
    },
    {
      "cell_type": "markdown",
      "source": [],
      "metadata": {
        "id": "IQpvhWrAiqta"
      }
    },
    {
      "cell_type": "code",
      "source": [
        "# download data\n",
        "\n",
        "from tensorflow.keras.datasets import reuters\n",
        "(train_data, train_labels), (test_data, test_labels) = reuters.load_data(num_words=10000)"
      ],
      "metadata": {
        "id": "Um4DuGZWjQL1"
      },
      "execution_count": 1,
      "outputs": []
    },
    {
      "cell_type": "code",
      "source": [
        "len(train_data)"
      ],
      "metadata": {
        "colab": {
          "base_uri": "https://localhost:8080/"
        },
        "id": "IJVHXwRWv-ZF",
        "outputId": "ea51c89d-8bfe-4fb1-a779-27ec1f1fd689"
      },
      "execution_count": 2,
      "outputs": [
        {
          "output_type": "execute_result",
          "data": {
            "text/plain": [
              "8982"
            ]
          },
          "metadata": {},
          "execution_count": 2
        }
      ]
    },
    {
      "cell_type": "code",
      "source": [
        "len(test_data)"
      ],
      "metadata": {
        "colab": {
          "base_uri": "https://localhost:8080/"
        },
        "id": "lRllq7fvv_hD",
        "outputId": "7f287c19-eaf6-4de4-e733-95e6fa0be22f"
      },
      "execution_count": 3,
      "outputs": [
        {
          "output_type": "execute_result",
          "data": {
            "text/plain": [
              "2246"
            ]
          },
          "metadata": {},
          "execution_count": 3
        }
      ]
    },
    {
      "cell_type": "code",
      "source": [
        "#train_data[0]"
      ],
      "metadata": {
        "id": "Lk5SgkPHwHgL"
      },
      "execution_count": 4,
      "outputs": []
    },
    {
      "cell_type": "code",
      "source": [
        "word_index = reuters.get_word_index()\n",
        "reverse_word_index = dict(\n",
        "    [(value, key) for (key, value) in word_index.items()])\n",
        "decoded_newswire = \" \".join(\n",
        "    [reverse_word_index.get(i - 3, \"?\") for i in train_data[0]])\n",
        "\n"
      ],
      "metadata": {
        "id": "2ta1oy-lwdPo"
      },
      "execution_count": 5,
      "outputs": []
    },
    {
      "cell_type": "code",
      "source": [
        "train_labels[3]"
      ],
      "metadata": {
        "colab": {
          "base_uri": "https://localhost:8080/"
        },
        "id": "JF92tsU9xTyl",
        "outputId": "4c2df038-c6fb-45bd-9048-11ce32e989fb"
      },
      "execution_count": 6,
      "outputs": [
        {
          "output_type": "execute_result",
          "data": {
            "text/plain": [
              "4"
            ]
          },
          "metadata": {},
          "execution_count": 6
        }
      ]
    },
    {
      "cell_type": "code",
      "source": [
        "#Vectorize the data \n",
        "import numpy as np\n",
        "def vectorize_sequences(sequences, dimension=10000):\n",
        "    results = np.zeros((len(sequences), dimension))\n",
        "    for i, sequence in enumerate(sequences):\n",
        "        for j in sequence:\n",
        "            results[i, j] = 1.\n",
        "    return results\n",
        "x_train = vectorize_sequences(train_data)\n",
        "x_test = vectorize_sequences(test_data)"
      ],
      "metadata": {
        "id": "Oq5U2ugqxVrY"
      },
      "execution_count": 7,
      "outputs": []
    },
    {
      "cell_type": "code",
      "source": [],
      "metadata": {
        "id": "0prdl8h9x5YR"
      },
      "execution_count": 7,
      "outputs": []
    },
    {
      "cell_type": "code",
      "source": [
        "test_labels"
      ],
      "metadata": {
        "colab": {
          "base_uri": "https://localhost:8080/"
        },
        "id": "Pc8CgXj8x7FT",
        "outputId": "6c381403-ee54-4db0-f5ec-916b9c548137"
      },
      "execution_count": 8,
      "outputs": [
        {
          "output_type": "execute_result",
          "data": {
            "text/plain": [
              "array([ 3, 10,  1, ...,  3,  3, 24])"
            ]
          },
          "metadata": {},
          "execution_count": 8
        }
      ]
    },
    {
      "cell_type": "code",
      "source": [
        "len(train_labels)"
      ],
      "metadata": {
        "colab": {
          "base_uri": "https://localhost:8080/"
        },
        "id": "9MmAlAeXy7DA",
        "outputId": "c1f9be73-f0c9-443f-aa1e-f2d30a4dffd5"
      },
      "execution_count": 9,
      "outputs": [
        {
          "output_type": "execute_result",
          "data": {
            "text/plain": [
              "8982"
            ]
          },
          "metadata": {},
          "execution_count": 9
        }
      ]
    },
    {
      "cell_type": "code",
      "source": [
        "len(x_train)"
      ],
      "metadata": {
        "colab": {
          "base_uri": "https://localhost:8080/"
        },
        "id": "pphbQio0y92z",
        "outputId": "1a46e027-0912-45d3-9e4c-1b3cabd80887"
      },
      "execution_count": 10,
      "outputs": [
        {
          "output_type": "execute_result",
          "data": {
            "text/plain": [
              "8982"
            ]
          },
          "metadata": {},
          "execution_count": 10
        }
      ]
    },
    {
      "cell_type": "code",
      "source": [
        "train_labels"
      ],
      "metadata": {
        "colab": {
          "base_uri": "https://localhost:8080/"
        },
        "id": "3jhILJvsz7S6",
        "outputId": "6fcf6c8c-b90f-481b-dbe6-f5a7d158bb4a"
      },
      "execution_count": 11,
      "outputs": [
        {
          "output_type": "execute_result",
          "data": {
            "text/plain": [
              "array([ 3,  4,  3, ..., 25,  3, 25])"
            ]
          },
          "metadata": {},
          "execution_count": 11
        }
      ]
    },
    {
      "cell_type": "code",
      "source": [
        "#def to_one_hot(labels, dimension=46):\n",
        "#    results = np.zeros(len(labels), dimension)\n",
        "#  for i, label in enumerate(labels):\n",
        "#      results[i, label] = 1.\n",
        "#  return results\n",
        "\n",
        "#y_train = to_one_hot(train_labels)\n",
        "#y_test = to_one_hot(test_labels)"
      ],
      "metadata": {
        "id": "YlJxrt7I0BEq"
      },
      "execution_count": 12,
      "outputs": []
    },
    {
      "cell_type": "code",
      "source": [
        "# Vectorize the labels.\n",
        "\n",
        "from tensorflow.keras.utils import to_categorical\n",
        "y_train = to_categorical(train_labels)\n",
        "y_test = to_categorical(test_labels)"
      ],
      "metadata": {
        "id": "fREzzbA_3BOz"
      },
      "execution_count": 13,
      "outputs": []
    },
    {
      "cell_type": "code",
      "source": [
        "# Define the DL model\n",
        "from tensorflow import keras\n",
        "from tensorflow.keras import layers\n",
        "\n",
        "model2 = keras.Sequential([\n",
        "    layers.Dense(128, activation=\"relu\"),\n",
        "    layers.Dense(128, activation=\"relu\"),\n",
        "    layers.Dense(46, activation=\"softmax\")\n",
        "])"
      ],
      "metadata": {
        "id": "c2K4raBA5tqe"
      },
      "execution_count": 40,
      "outputs": []
    },
    {
      "cell_type": "code",
      "source": [
        "# model compile\n",
        "\n",
        "model2.compile(optimizer=\"rmsprop\",\n",
        "              loss=\"categorical_crossentropy\",\n",
        "              metrics=[\"accuracy\"])\n"
      ],
      "metadata": {
        "id": "7YnmVHZq6NS7"
      },
      "execution_count": 41,
      "outputs": []
    },
    {
      "cell_type": "code",
      "source": [
        "# Separate the train data into \"real train\" data and validation data\n",
        "x_val = x_train[:1000]\n",
        "y_val = y_train[:1000]\n",
        "\n",
        "partial_x_train = x_train[1000:]\n",
        "partial_y_train = y_train[1000:]"
      ],
      "metadata": {
        "id": "x5DkhxwX7aKb"
      },
      "execution_count": 16,
      "outputs": []
    },
    {
      "cell_type": "code",
      "source": [
        "history = model2.fit(partial_x_train, partial_y_train,\n",
        "                     epochs=20,\n",
        "                     batch_size=512,\n",
        "                     validation_data=(x_val, y_val))"
      ],
      "metadata": {
        "colab": {
          "base_uri": "https://localhost:8080/"
        },
        "id": "eChIlBdk85Lq",
        "outputId": "096fdbfa-c3f6-40bf-cbe8-051442e27aa1"
      },
      "execution_count": 42,
      "outputs": [
        {
          "output_type": "stream",
          "name": "stdout",
          "text": [
            "Epoch 1/20\n",
            "16/16 [==============================] - 1s 31ms/step - loss: 2.3443 - accuracy: 0.5220 - val_loss: 1.5068 - val_accuracy: 0.6580\n",
            "Epoch 2/20\n",
            "16/16 [==============================] - 0s 17ms/step - loss: 1.2838 - accuracy: 0.7167 - val_loss: 1.1933 - val_accuracy: 0.7380\n",
            "Epoch 3/20\n",
            "16/16 [==============================] - 0s 19ms/step - loss: 0.9677 - accuracy: 0.7897 - val_loss: 1.0337 - val_accuracy: 0.7720\n",
            "Epoch 4/20\n",
            "16/16 [==============================] - 0s 17ms/step - loss: 0.7366 - accuracy: 0.8420 - val_loss: 0.9715 - val_accuracy: 0.7850\n",
            "Epoch 5/20\n",
            "16/16 [==============================] - 0s 16ms/step - loss: 0.5769 - accuracy: 0.8753 - val_loss: 0.8931 - val_accuracy: 0.8060\n",
            "Epoch 6/20\n",
            "16/16 [==============================] - 0s 18ms/step - loss: 0.4561 - accuracy: 0.9023 - val_loss: 0.8534 - val_accuracy: 0.8220\n",
            "Epoch 7/20\n",
            "16/16 [==============================] - 0s 20ms/step - loss: 0.3651 - accuracy: 0.9218 - val_loss: 0.8670 - val_accuracy: 0.8110\n",
            "Epoch 8/20\n",
            "16/16 [==============================] - 0s 17ms/step - loss: 0.3096 - accuracy: 0.9325 - val_loss: 0.8581 - val_accuracy: 0.8120\n",
            "Epoch 9/20\n",
            "16/16 [==============================] - 0s 17ms/step - loss: 0.2476 - accuracy: 0.9439 - val_loss: 0.8750 - val_accuracy: 0.8260\n",
            "Epoch 10/20\n",
            "16/16 [==============================] - 0s 16ms/step - loss: 0.2206 - accuracy: 0.9474 - val_loss: 0.8610 - val_accuracy: 0.8300\n",
            "Epoch 11/20\n",
            "16/16 [==============================] - 0s 17ms/step - loss: 0.1883 - accuracy: 0.9529 - val_loss: 0.9017 - val_accuracy: 0.8200\n",
            "Epoch 12/20\n",
            "16/16 [==============================] - 0s 17ms/step - loss: 0.1754 - accuracy: 0.9530 - val_loss: 0.9301 - val_accuracy: 0.8110\n",
            "Epoch 13/20\n",
            "16/16 [==============================] - 0s 17ms/step - loss: 0.1629 - accuracy: 0.9553 - val_loss: 0.9668 - val_accuracy: 0.8000\n",
            "Epoch 14/20\n",
            "16/16 [==============================] - 0s 17ms/step - loss: 0.1494 - accuracy: 0.9567 - val_loss: 0.9098 - val_accuracy: 0.8260\n",
            "Epoch 15/20\n",
            "16/16 [==============================] - 0s 17ms/step - loss: 0.1486 - accuracy: 0.9558 - val_loss: 0.9407 - val_accuracy: 0.8150\n",
            "Epoch 16/20\n",
            "16/16 [==============================] - 0s 18ms/step - loss: 0.1357 - accuracy: 0.9568 - val_loss: 0.9887 - val_accuracy: 0.8060\n",
            "Epoch 17/20\n",
            "16/16 [==============================] - 0s 18ms/step - loss: 0.1362 - accuracy: 0.9563 - val_loss: 0.9776 - val_accuracy: 0.8080\n",
            "Epoch 18/20\n",
            "16/16 [==============================] - 0s 24ms/step - loss: 0.1319 - accuracy: 0.9572 - val_loss: 0.9862 - val_accuracy: 0.8080\n",
            "Epoch 19/20\n",
            "16/16 [==============================] - 0s 24ms/step - loss: 0.1269 - accuracy: 0.9564 - val_loss: 0.9650 - val_accuracy: 0.8180\n",
            "Epoch 20/20\n",
            "16/16 [==============================] - 0s 22ms/step - loss: 0.1161 - accuracy: 0.9580 - val_loss: 0.9700 - val_accuracy: 0.8090\n"
          ]
        }
      ]
    },
    {
      "cell_type": "code",
      "source": [
        "import matplotlib.pyplot as plt\n",
        "\n",
        "history_dict = history.history"
      ],
      "metadata": {
        "id": "r4izPS5V9sve"
      },
      "execution_count": 43,
      "outputs": []
    },
    {
      "cell_type": "code",
      "source": [
        "history_dict.keys()"
      ],
      "metadata": {
        "colab": {
          "base_uri": "https://localhost:8080/"
        },
        "id": "clwxF-PA-PZb",
        "outputId": "a707d673-f957-4162-c735-19623c96ff80"
      },
      "execution_count": 33,
      "outputs": [
        {
          "output_type": "execute_result",
          "data": {
            "text/plain": [
              "dict_keys(['loss', 'accuracy', 'val_loss', 'val_accuracy'])"
            ]
          },
          "metadata": {},
          "execution_count": 33
        }
      ]
    },
    {
      "cell_type": "code",
      "source": [
        "tr_loss = history_dict[\"loss\"]\n",
        "val_loss = history_dict[\"val_loss\"]\n",
        "\n",
        "\n",
        "n = range(1, len(tr_loss)+1)\n",
        "\n",
        "plt.plot(n, tr_loss, 'bo', label=\"training_data_loss\")\n",
        "plt.plot(n, val_loss, 'r')"
      ],
      "metadata": {
        "colab": {
          "base_uri": "https://localhost:8080/",
          "height": 447
        },
        "id": "ozfh3IV8-Qst",
        "outputId": "91f643ba-7dba-48fc-a7a8-d237bcbe3524"
      },
      "execution_count": 44,
      "outputs": [
        {
          "output_type": "execute_result",
          "data": {
            "text/plain": [
              "[<matplotlib.lines.Line2D at 0x7ff94b6e1840>]"
            ]
          },
          "metadata": {},
          "execution_count": 44
        },
        {
          "output_type": "display_data",
          "data": {
            "text/plain": [
              "<Figure size 640x480 with 1 Axes>"
            ],
            "image/png": "[encoded data removed]"
          },
          "metadata": {}
        }
      ]
    },
    {
      "cell_type": "code",
      "source": [
        "tr_acc = history_dict[\"accuracy\"]\n",
        "val_acc = history_dict[\"val_accuracy\"]\n",
        "\n",
        "plt.clf()\n",
        "\n",
        "n = range(1, len(tr_loss)+1)\n",
        "\n",
        "plt.plot(n, tr_acc, 'bo', label=\"training_data_accuracy\")\n",
        "plt.plot(n, val_acc, 'r')\n",
        "plt.xlabel(\"Epochs\")\n",
        "plt.ylabel(\"Accuracy\")"
      ],
      "metadata": {
        "colab": {
          "base_uri": "https://localhost:8080/",
          "height": 466
        },
        "id": "29GsvHop_kZP",
        "outputId": "e3063fdc-d2e5-4a02-a626-a0495a4a98e0"
      },
      "execution_count": 45,
      "outputs": [
        {
          "output_type": "execute_result",
          "data": {
            "text/plain": [
              "Text(0, 0.5, 'Accuracy')"
            ]
          },
          "metadata": {},
          "execution_count": 45
        },
        {
          "output_type": "display_data",
          "data": {
            "text/plain": [
              "<Figure size 640x480 with 1 Axes>"
            ],
            "image/png": "[encoded data removed]"
          },
          "metadata": {}
        }
      ]
    },
    {
      "cell_type": "markdown",
      "source": [
        "After ~9 epochs the validation data does not improve further."
      ],
      "metadata": {
        "id": "XUxZcxrvDesN"
      }
    },
    {
      "cell_type": "code",
      "source": [
        "model2.fit(x_train, y_train, epochs=10,\n",
        "          batch_size=512)\n",
        "\n",
        "results = model2.evaluate(x_test, y_test)"
      ],
      "metadata": {
        "colab": {
          "base_uri": "https://localhost:8080/"
        },
        "id": "G7EfPR4iD4et",
        "outputId": "38580a62-8741-4fba-cc8d-9164bb483fcf"
      },
      "execution_count": 46,
      "outputs": [
        {
          "output_type": "stream",
          "name": "stdout",
          "text": [
            "Epoch 1/10\n",
            "18/18 [==============================] - 0s 14ms/step - loss: 0.2169 - accuracy: 0.9414\n",
            "Epoch 2/10\n",
            "18/18 [==============================] - 0s 13ms/step - loss: 0.1640 - accuracy: 0.9469\n",
            "Epoch 3/10\n",
            "18/18 [==============================] - 0s 14ms/step - loss: 0.1434 - accuracy: 0.9511\n",
            "Epoch 4/10\n",
            "18/18 [==============================] - 0s 13ms/step - loss: 0.1366 - accuracy: 0.9547\n",
            "Epoch 5/10\n",
            "18/18 [==============================] - 0s 13ms/step - loss: 0.1337 - accuracy: 0.9532\n",
            "Epoch 6/10\n",
            "18/18 [==============================] - 0s 14ms/step - loss: 0.1247 - accuracy: 0.9555\n",
            "Epoch 7/10\n",
            "18/18 [==============================] - 0s 14ms/step - loss: 0.1237 - accuracy: 0.9572\n",
            "Epoch 8/10\n",
            "18/18 [==============================] - 0s 14ms/step - loss: 0.1208 - accuracy: 0.9566\n",
            "Epoch 9/10\n",
            "18/18 [==============================] - 0s 13ms/step - loss: 0.1146 - accuracy: 0.9564\n",
            "Epoch 10/10\n",
            "18/18 [==============================] - 0s 16ms/step - loss: 0.1173 - accuracy: 0.9558\n",
            "71/71 [==============================] - 0s 4ms/step - loss: 1.0665 - accuracy: 0.7939\n"
          ]
        }
      ]
    },
    {
      "cell_type": "code",
      "source": [
        "results"
      ],
      "metadata": {
        "id": "vYjF3EbGEyaV",
        "outputId": "5482d254-ab53-4a0a-9ce9-3c7a62bf596a",
        "colab": {
          "base_uri": "https://localhost:8080/"
        }
      },
      "execution_count": 47,
      "outputs": [
        {
          "output_type": "execute_result",
          "data": {
            "text/plain": [
              "[1.0665203332901, 0.7938557267189026]"
            ]
          },
          "metadata": {},
          "execution_count": 47
        }
      ]
    },
    {
      "cell_type": "code",
      "source": [
        "predictions = model2.predict(x_test)"
      ],
      "metadata": {
        "id": "sUwMJcWDEzCG",
        "outputId": "fa53dc9c-1b9f-49d4-8fa5-e5ab09e1191a",
        "colab": {
          "base_uri": "https://localhost:8080/"
        }
      },
      "execution_count": 48,
      "outputs": [
        {
          "output_type": "stream",
          "name": "stdout",
          "text": [
            "71/71 [==============================] - 0s 2ms/step\n"
          ]
        }
      ]
    },
    {
      "cell_type": "code",
      "source": [
        "np.argmax(predictions[100])"
      ],
      "metadata": {
        "id": "s7v_fKouFVrF",
        "outputId": "9a7b5a2b-b649-4258-9a7e-d5179eafdabe",
        "colab": {
          "base_uri": "https://localhost:8080/"
        }
      },
      "execution_count": 49,
      "outputs": [
        {
          "output_type": "execute_result",
          "data": {
            "text/plain": [
              "41"
            ]
          },
          "metadata": {},
          "execution_count": 49
        }
      ]
    },
    {
      "cell_type": "code",
      "source": [],
      "metadata": {
        "id": "2SNUu1aTFY42"
      },
      "execution_count": null,
      "outputs": []
    }
  ]
}