{
  "nbformat": 4,
  "nbformat_minor": 0,
  "metadata": {
    "colab": {
      "provenance": [],
      "gpuType": "T4",
      "authorship_tag": "ABX9TyOI52Ufwg3FUMnyrMcXZXzX",
      "include_colab_link": true
    },
    "kernelspec": {
      "name": "python3",
      "display_name": "Python 3"
    },
    "language_info": {
      "name": "python"
    },
    "accelerator": "GPU",
    "gpuClass": "standard"
  },
  "cells": [
    {
      "cell_type": "markdown",
      "metadata": {
        "id": "view-in-github",
        "colab_type": "text"
      },
      "source": [
        "<a href=\"https://colab.research.google.com/github/jaeohshin/keras/blob/main/tutorial2_classifying_news.ipynb\" target=\"_parent\"><img src=\"https://colab.research.google.com/assets/colab-badge.svg\" alt=\"Open In Colab\"/></a>"
      ]
    },
    {
      "cell_type": "code",
      "execution_count": null,
      "metadata": {
        "id": "pbWa28TTiTTN"
      },
      "outputs": [],
      "source": []
    },
    {
      "cell_type": "markdown",
      "source": [
        "Here ML for the classifying news articles based on the words.\n",
        "\n",
        "One news article can be one of 46 possible categories."
      ],
      "metadata": {
        "id": "9ew3k04yiri8"
      }
    },
    {
      "cell_type": "markdown",
      "source": [],
      "metadata": {
        "id": "IQpvhWrAiqta"
      }
    },
    {
      "cell_type": "code",
      "source": [
        "# download data\n",
        "\n",
        "from tensorflow.keras.datasets import reuters\n",
        "(train_data, train_labels), (test_data, test_labels) = reuters.load_data(num_words=10000)"
      ],
      "metadata": {
        "colab": {
          "base_uri": "https://localhost:8080/"
        },
        "id": "Um4DuGZWjQL1",
        "outputId": "159e6e7e-8a68-4ee5-f55e-5407d445cb41"
      },
      "execution_count": 1,
      "outputs": [
        {
          "output_type": "stream",
          "name": "stdout",
          "text": [
            "Downloading data from https://storage.googleapis.com/tensorflow/tf-keras-datasets/reuters.npz\n",
            "2110848/2110848 [==============================] - 1s 1us/step\n"
          ]
        }
      ]
    },
    {
      "cell_type": "code",
      "source": [
        "len(train_data)"
      ],
      "metadata": {
        "id": "IJVHXwRWv-ZF",
        "outputId": "b196eb1a-e500-400b-c3da-4f8fcb65c3fd",
        "colab": {
          "base_uri": "https://localhost:8080/"
        }
      },
      "execution_count": 3,
      "outputs": [
        {
          "output_type": "execute_result",
          "data": {
            "text/plain": [
              "8982"
            ]
          },
          "metadata": {},
          "execution_count": 3
        }
      ]
    },
    {
      "cell_type": "code",
      "source": [
        "len(test_data)"
      ],
      "metadata": {
        "id": "lRllq7fvv_hD",
        "outputId": "d1fa2edd-3120-458b-dd04-9e1b4cc6aaba",
        "colab": {
          "base_uri": "https://localhost:8080/"
        }
      },
      "execution_count": 4,
      "outputs": [
        {
          "output_type": "execute_result",
          "data": {
            "text/plain": [
              "2246"
            ]
          },
          "metadata": {},
          "execution_count": 4
        }
      ]
    },
    {
      "cell_type": "code",
      "source": [
        "#train_data[0]"
      ],
      "metadata": {
        "id": "Lk5SgkPHwHgL"
      },
      "execution_count": 6,
      "outputs": []
    },
    {
      "cell_type": "code",
      "source": [
        "word_index = reuters.get_word_index()\n",
        "reverse_word_index = dict(\n",
        "    [(value, key) for (key, value) in word_index.items()])\n",
        "decoded_newswire = \" \".join(\n",
        "    [reverse_word_index.get(i - 3, \"?\") for i in train_data[0]])\n",
        "\n"
      ],
      "metadata": {
        "id": "2ta1oy-lwdPo",
        "outputId": "b213a844-aabb-40b4-b60d-485b0114492e",
        "colab": {
          "base_uri": "https://localhost:8080/"
        }
      },
      "execution_count": 7,
      "outputs": [
        {
          "output_type": "stream",
          "name": "stdout",
          "text": [
            "Downloading data from https://storage.googleapis.com/tensorflow/tf-keras-datasets/reuters_word_index.json\n",
            "550378/550378 [==============================] - 1s 1us/step\n"
          ]
        }
      ]
    },
    {
      "cell_type": "code",
      "source": [
        "train_labels[3]"
      ],
      "metadata": {
        "id": "JF92tsU9xTyl",
        "outputId": "f0c4f884-f40b-4d58-fd22-4b7c75b39b4e",
        "colab": {
          "base_uri": "https://localhost:8080/"
        }
      },
      "execution_count": 11,
      "outputs": [
        {
          "output_type": "execute_result",
          "data": {
            "text/plain": [
              "4"
            ]
          },
          "metadata": {},
          "execution_count": 11
        }
      ]
    },
    {
      "cell_type": "code",
      "source": [
        "#Vectorize the data \n",
        "import numpy as np\n",
        "def vectorize_sequences(sequences, dimension=10000):\n",
        "    results = np.zeros((len(sequences), dimension))\n",
        "    for i, sequence in enumerate(sequences):\n",
        "        for j in sequence:\n",
        "            results[i, j] = 1.\n",
        "    return results\n",
        "x_train = vectorize_sequences(train_data)\n",
        "x_test = vectorize_sequences(test_data)"
      ],
      "metadata": {
        "id": "Oq5U2ugqxVrY"
      },
      "execution_count": 12,
      "outputs": []
    },
    {
      "cell_type": "code",
      "source": [],
      "metadata": {
        "id": "0prdl8h9x5YR"
      },
      "execution_count": 18,
      "outputs": []
    },
    {
      "cell_type": "code",
      "source": [
        "test_labels"
      ],
      "metadata": {
        "id": "Pc8CgXj8x7FT",
        "outputId": "1516e51b-e42a-40b8-f7d9-e4ba16e1b352",
        "colab": {
          "base_uri": "https://localhost:8080/"
        }
      },
      "execution_count": 19,
      "outputs": [
        {
          "output_type": "execute_result",
          "data": {
            "text/plain": [
              "array([ 3, 10,  1, ...,  3,  3, 24])"
            ]
          },
          "metadata": {},
          "execution_count": 19
        }
      ]
    },
    {
      "cell_type": "code",
      "source": [
        "len(train_labels)"
      ],
      "metadata": {
        "id": "9MmAlAeXy7DA",
        "outputId": "0d9a9c75-75cf-49eb-d922-c7ea8ea2ab5d",
        "colab": {
          "base_uri": "https://localhost:8080/"
        }
      },
      "execution_count": 21,
      "outputs": [
        {
          "output_type": "execute_result",
          "data": {
            "text/plain": [
              "8982"
            ]
          },
          "metadata": {},
          "execution_count": 21
        }
      ]
    },
    {
      "cell_type": "code",
      "source": [
        "len(x_train)"
      ],
      "metadata": {
        "id": "pphbQio0y92z",
        "outputId": "6743a307-5bcf-404a-ffc1-eefc4570b916",
        "colab": {
          "base_uri": "https://localhost:8080/"
        }
      },
      "execution_count": 22,
      "outputs": [
        {
          "output_type": "execute_result",
          "data": {
            "text/plain": [
              "8982"
            ]
          },
          "metadata": {},
          "execution_count": 22
        }
      ]
    },
    {
      "cell_type": "code",
      "source": [
        "train_labels"
      ],
      "metadata": {
        "id": "3jhILJvsz7S6",
        "outputId": "1a697fa9-0190-46f8-c98f-b20648e6a4d2",
        "colab": {
          "base_uri": "https://localhost:8080/"
        }
      },
      "execution_count": 23,
      "outputs": [
        {
          "output_type": "execute_result",
          "data": {
            "text/plain": [
              "array([ 3,  4,  3, ..., 25,  3, 25])"
            ]
          },
          "metadata": {},
          "execution_count": 23
        }
      ]
    },
    {
      "cell_type": "code",
      "source": [
        "#def to_one_hot(labels, dimension=46):\n",
        "#    results = np.zeros(len(labels), dimension)\n",
        "#  for i, label in enumerate(labels):\n",
        "#      results[i, label] = 1.\n",
        "#  return results\n",
        "\n",
        "#y_train = to_one_hot(train_labels)\n",
        "#y_test = to_one_hot(test_labels)"
      ],
      "metadata": {
        "id": "YlJxrt7I0BEq"
      },
      "execution_count": 54,
      "outputs": []
    },
    {
      "cell_type": "code",
      "source": [
        "# Vectorize the labels.\n",
        "\n",
        "from tensorflow.keras.utils import to_categorical\n",
        "y_train = to_categorical(train_labels)\n",
        "y_test = to_categorical(test_labels)"
      ],
      "metadata": {
        "id": "fREzzbA_3BOz"
      },
      "execution_count": 55,
      "outputs": []
    },
    {
      "cell_type": "code",
      "source": [
        "# Define the DL model\n",
        "from tensorflow import keras\n",
        "from tensorflow.keras import layers\n",
        "\n",
        "model2 = keras.Sequential([\n",
        "    layers.Dense(64, activation=\"relu\"),\n",
        "    layers.Dense(64, activation=\"relu\"),\n",
        "    layers.Dense(46, activation=\"softmax\")\n",
        "])"
      ],
      "metadata": {
        "id": "c2K4raBA5tqe"
      },
      "execution_count": 64,
      "outputs": []
    },
    {
      "cell_type": "code",
      "source": [
        "# model compile\n",
        "\n",
        "model2.compile(optimizer=\"rmsprop\",\n",
        "              loss=\"categorical_crossentropy\",\n",
        "              metrics=[\"accuracy\"])\n"
      ],
      "metadata": {
        "id": "7YnmVHZq6NS7"
      },
      "execution_count": 65,
      "outputs": []
    },
    {
      "cell_type": "code",
      "source": [
        "# Separate the train data into \"real train\" data and validation data\n",
        "x_val = x_train[:1000]\n",
        "y_val = y_train[:1000]\n",
        "\n",
        "partial_x_train = x_train[1000:]\n",
        "partial_y_train = y_train[1000:]"
      ],
      "metadata": {
        "id": "x5DkhxwX7aKb"
      },
      "execution_count": 66,
      "outputs": []
    },
    {
      "cell_type": "code",
      "source": [
        "history = model2.fit(partial_x_train, partial_y_train,\n",
        "                     epochs=20,\n",
        "                     batch_size=512,\n",
        "                     validation_data=(x_val, y_val))"
      ],
      "metadata": {
        "id": "eChIlBdk85Lq",
        "outputId": "c0eb9025-9e03-4462-817e-6607b60b5bbd",
        "colab": {
          "base_uri": "https://localhost:8080/"
        }
      },
      "execution_count": 67,
      "outputs": [
        {
          "output_type": "stream",
          "name": "stdout",
          "text": [
            "Epoch 1/20\n",
            "16/16 [==============================] - 6s 47ms/step - loss: 2.6937 - accuracy: 0.4985 - val_loss: 1.8185 - val_accuracy: 0.6090\n",
            "Epoch 2/20\n",
            "16/16 [==============================] - 0s 16ms/step - loss: 1.5323 - accuracy: 0.6620 - val_loss: 1.3928 - val_accuracy: 0.6800\n",
            "Epoch 3/20\n",
            "16/16 [==============================] - 0s 19ms/step - loss: 1.1947 - accuracy: 0.7291 - val_loss: 1.2140 - val_accuracy: 0.7320\n",
            "Epoch 4/20\n",
            "16/16 [==============================] - 0s 16ms/step - loss: 0.9901 - accuracy: 0.7841 - val_loss: 1.1015 - val_accuracy: 0.7500\n",
            "Epoch 5/20\n",
            "16/16 [==============================] - 0s 17ms/step - loss: 0.8236 - accuracy: 0.8257 - val_loss: 1.0118 - val_accuracy: 0.7840\n",
            "Epoch 6/20\n",
            "16/16 [==============================] - 0s 17ms/step - loss: 0.6802 - accuracy: 0.8574 - val_loss: 0.9526 - val_accuracy: 0.7900\n",
            "Epoch 7/20\n",
            "16/16 [==============================] - 0s 19ms/step - loss: 0.5681 - accuracy: 0.8811 - val_loss: 0.9298 - val_accuracy: 0.8000\n",
            "Epoch 8/20\n",
            "16/16 [==============================] - 0s 18ms/step - loss: 0.4751 - accuracy: 0.8986 - val_loss: 0.9073 - val_accuracy: 0.8070\n",
            "Epoch 9/20\n",
            "16/16 [==============================] - 0s 16ms/step - loss: 0.4047 - accuracy: 0.9116 - val_loss: 0.8946 - val_accuracy: 0.8100\n",
            "Epoch 10/20\n",
            "16/16 [==============================] - 0s 16ms/step - loss: 0.3417 - accuracy: 0.9255 - val_loss: 0.8810 - val_accuracy: 0.8150\n",
            "Epoch 11/20\n",
            "16/16 [==============================] - 0s 17ms/step - loss: 0.2949 - accuracy: 0.9345 - val_loss: 0.8946 - val_accuracy: 0.8060\n",
            "Epoch 12/20\n",
            "16/16 [==============================] - 0s 16ms/step - loss: 0.2557 - accuracy: 0.9429 - val_loss: 0.8736 - val_accuracy: 0.8250\n",
            "Epoch 13/20\n",
            "16/16 [==============================] - 0s 16ms/step - loss: 0.2308 - accuracy: 0.9469 - val_loss: 0.8899 - val_accuracy: 0.8160\n",
            "Epoch 14/20\n",
            "16/16 [==============================] - 0s 18ms/step - loss: 0.2024 - accuracy: 0.9508 - val_loss: 0.9065 - val_accuracy: 0.8110\n",
            "Epoch 15/20\n",
            "16/16 [==============================] - 0s 18ms/step - loss: 0.1803 - accuracy: 0.9521 - val_loss: 0.9134 - val_accuracy: 0.8190\n",
            "Epoch 16/20\n",
            "16/16 [==============================] - 0s 17ms/step - loss: 0.1712 - accuracy: 0.9540 - val_loss: 0.9208 - val_accuracy: 0.8190\n",
            "Epoch 17/20\n",
            "16/16 [==============================] - 0s 16ms/step - loss: 0.1599 - accuracy: 0.9545 - val_loss: 0.9227 - val_accuracy: 0.8170\n",
            "Epoch 18/20\n",
            "16/16 [==============================] - 0s 17ms/step - loss: 0.1476 - accuracy: 0.9562 - val_loss: 0.9243 - val_accuracy: 0.8180\n",
            "Epoch 19/20\n",
            "16/16 [==============================] - 0s 18ms/step - loss: 0.1434 - accuracy: 0.9560 - val_loss: 0.9420 - val_accuracy: 0.8160\n",
            "Epoch 20/20\n",
            "16/16 [==============================] - 0s 16ms/step - loss: 0.1385 - accuracy: 0.9560 - val_loss: 1.0110 - val_accuracy: 0.8040\n"
          ]
        }
      ]
    },
    {
      "cell_type": "code",
      "source": [
        "import matplotlib.pyplot as plt\n",
        "\n",
        "history_dict = history.history"
      ],
      "metadata": {
        "id": "r4izPS5V9sve"
      },
      "execution_count": 68,
      "outputs": []
    },
    {
      "cell_type": "code",
      "source": [
        "history_dict.keys()"
      ],
      "metadata": {
        "id": "clwxF-PA-PZb",
        "outputId": "43c08b76-e6b8-402a-ebe6-ac8b4eb982e8",
        "colab": {
          "base_uri": "https://localhost:8080/"
        }
      },
      "execution_count": 70,
      "outputs": [
        {
          "output_type": "execute_result",
          "data": {
            "text/plain": [
              "dict_keys(['loss', 'accuracy', 'val_loss', 'val_accuracy'])"
            ]
          },
          "metadata": {},
          "execution_count": 70
        }
      ]
    },
    {
      "cell_type": "code",
      "source": [
        "tr_loss = history_dict[\"loss\"]\n",
        "val_loss = history_dict[\"val_loss\"]\n",
        "\n",
        "\n",
        "n = range(1, len(tr_loss)+1)\n",
        "\n",
        "plt.plot(n, tr_loss, 'bo', label=\"training_data_loss\")\n",
        "plt.plot(n, val_loss, 'r')"
      ],
      "metadata": {
        "id": "ozfh3IV8-Qst",
        "outputId": "a7d905c4-a5b3-4182-b76e-05468afa0147",
        "colab": {
          "base_uri": "https://localhost:8080/",
          "height": 447
        }
      },
      "execution_count": 73,
      "outputs": [
        {
          "output_type": "execute_result",
          "data": {
            "text/plain": [
              "[<matplotlib.lines.Line2D at 0x7ff0203aada0>]"
            ]
          },
          "metadata": {},
          "execution_count": 73
        },
        {
          "output_type": "display_data",
          "data": {
            "text/plain": [
              "<Figure size 640x480 with 1 Axes>"
            ],
            "image/png": "[encoded data removed]"
          },
          "metadata": {}
        }
      ]
    },
    {
      "cell_type": "code",
      "source": [
        "tr_acc = history_dict[\"accuracy\"]\n",
        "val_acc = history_dict[\"val_accuracy\"]\n",
        "\n",
        "plt.clf()\n",
        "\n",
        "n = range(1, len(tr_loss)+1)\n",
        "\n",
        "plt.plot(n, tr_acc, 'bo', label=\"training_data_accuracy\")\n",
        "plt.plot(n, val_acc, 'r')\n",
        "plt.xlabel(\"Epochs\")\n",
        "plt.ylabel(\"Accuracy\")"
      ],
      "metadata": {
        "id": "29GsvHop_kZP",
        "outputId": "73e7f8fe-293a-4e55-ac9a-b3c889ce02d3",
        "colab": {
          "base_uri": "https://localhost:8080/",
          "height": 466
        }
      },
      "execution_count": 75,
      "outputs": [
        {
          "output_type": "execute_result",
          "data": {
            "text/plain": [
              "Text(0, 0.5, 'Accuracy')"
            ]
          },
          "metadata": {},
          "execution_count": 75
        },
        {
          "output_type": "display_data",
          "data": {
            "text/plain": [
              "<Figure size 640x480 with 1 Axes>"
            ],
            "image/png": "[encoded data removed]"
          },
          "metadata": {}
        }
      ]
    },
    {
      "cell_type": "markdown",
      "source": [
        "After ~9 epochs the validation data does not improve further. So it would be good idea to use only 5 epochs for the prediction. "
      ],
      "metadata": {
        "id": "XUxZcxrvDesN"
      }
    },
    {
      "cell_type": "code",
      "source": [],
      "metadata": {
        "id": "G7EfPR4iD4et"
      },
      "execution_count": null,
      "outputs": []
    }
  ]
}