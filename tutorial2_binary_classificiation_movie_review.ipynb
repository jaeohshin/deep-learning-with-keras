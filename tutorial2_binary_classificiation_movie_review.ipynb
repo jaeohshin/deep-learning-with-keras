{
  "nbformat": 4,
  "nbformat_minor": 0,
  "metadata": {
    "colab": {
      "provenance": [],
      "gpuType": "T4",
      "authorship_tag": "ABX9TyOWYT7yUPrUASNgHdXlMU3l",
      "include_colab_link": true
    },
    "kernelspec": {
      "name": "python3",
      "display_name": "Python 3"
    },
    "language_info": {
      "name": "python"
    },
    "gpuClass": "standard"
  },
  "cells": [
    {
      "cell_type": "markdown",
      "metadata": {
        "id": "view-in-github",
        "colab_type": "text"
      },
      "source": [
        "<a href=\"https://colab.research.google.com/github/jaeohshin/keras/blob/main/tutorial2_binary_classificiation_movie_review.ipynb\" target=\"_parent\"><img src=\"https://colab.research.google.com/assets/colab-badge.svg\" alt=\"Open In Colab\"/></a>"
      ]
    },
    {
      "cell_type": "code",
      "execution_count": null,
      "metadata": {
        "id": "d6N0Qj7owSb8"
      },
      "outputs": [],
      "source": []
    },
    {
      "cell_type": "markdown",
      "source": [
        "Binary classification problem using ML on the moview review. \n",
        "1. data taken\n",
        "2. make it to vector form\n",
        "3. define the structure of DL\n",
        "4. define the 'compile' \n",
        "5. train the model\n",
        "6. validate the model with validation data\n",
        "7. choose the best \"epoches\" \n",
        "8. use the model to predict with new data.\n",
        "\n",
        "\n",
        "===\n",
        "serveral things to consider\n",
        "1. what would be the proper number of \n",
        "-layers\n",
        "-units for each layers\n",
        "-activation function\n"
      ],
      "metadata": {
        "id": "SKkG_Rwwx8K9"
      }
    },
    {
      "cell_type": "code",
      "source": [
        "# Here take data and convert it to vector format\n",
        "\n",
        "from tensorflow.keras.datasets import imdb\n",
        "(train_data, train_labels), (test_data, test_labels) = imdb.load_data(num_words=10000)"
      ],
      "metadata": {
        "id": "i7gemC8RyxKc"
      },
      "execution_count": 60,
      "outputs": []
    },
    {
      "cell_type": "code",
      "source": [
        "len(train_labels)"
      ],
      "metadata": {
        "colab": {
          "base_uri": "https://localhost:8080/"
        },
        "id": "K4iGyF5ezdo8",
        "outputId": "dd73a24d-8a2b-497f-89e3-fb62e6a4cfb0"
      },
      "execution_count": 6,
      "outputs": [
        {
          "output_type": "execute_result",
          "data": {
            "text/plain": [
              "25000"
            ]
          },
          "metadata": {},
          "execution_count": 6
        }
      ]
    },
    {
      "cell_type": "code",
      "source": [
        "max([max(sequence) for sequence in train_data])"
      ],
      "metadata": {
        "colab": {
          "base_uri": "https://localhost:8080/"
        },
        "id": "XUtTkBG40aBT",
        "outputId": "2ddce244-7911-4070-94b8-ee11088e657d"
      },
      "execution_count": 7,
      "outputs": [
        {
          "output_type": "execute_result",
          "data": {
            "text/plain": [
              "999"
            ]
          },
          "metadata": {},
          "execution_count": 7
        }
      ]
    },
    {
      "cell_type": "code",
      "source": [
        "word_index = imdb.get_word_index()\n",
        "reverse_word_index = dict(\n",
        "    [(value, key) for (key, value) in word_index.items()] )\n",
        "decoded_review = \" \".join(\n",
        "    [reverse_word_index.get(i - 3, \"?\") for i in train_data[0]])\n"
      ],
      "metadata": {
        "id": "UnfldJsC1X6_"
      },
      "execution_count": 61,
      "outputs": []
    },
    {
      "cell_type": "code",
      "source": [
        "import numpy as np\n",
        "def vectorize_sequences(sequences, dimension=10000):\n",
        "    results = np.zeros((len(sequences), dimension))\n",
        "    for i, sequence in enumerate(sequences):\n",
        "        for j in sequence:\n",
        "            results[i, j] = 1.\n",
        "    return results\n",
        "x_train = vectorize_sequences(train_data)\n",
        "x_test = vectorize_sequences(test_data)\n"
      ],
      "metadata": {
        "id": "ZGWmtO5x15BL"
      },
      "execution_count": 62,
      "outputs": []
    },
    {
      "cell_type": "code",
      "source": [
        "x_train[0]"
      ],
      "metadata": {
        "colab": {
          "base_uri": "https://localhost:8080/"
        },
        "id": "2pHp6TFn2Cjs",
        "outputId": "c8d65875-a62a-4284-bde3-1fd7743e8a8f"
      },
      "execution_count": 10,
      "outputs": [
        {
          "output_type": "execute_result",
          "data": {
            "text/plain": [
              "array([0., 1., 1., ..., 0., 0., 0.])"
            ]
          },
          "metadata": {},
          "execution_count": 10
        }
      ]
    },
    {
      "cell_type": "code",
      "source": [
        "y_train = np.asarray(train_labels).astype(\"float32\")\n",
        "y_test = np.asarray(test_labels).astype(\"float32\")"
      ],
      "metadata": {
        "id": "JI4_Y03a3R4w"
      },
      "execution_count": 63,
      "outputs": []
    },
    {
      "cell_type": "code",
      "source": [],
      "metadata": {
        "id": "VFZ_0TYW4oS2"
      },
      "execution_count": null,
      "outputs": []
    },
    {
      "cell_type": "code",
      "source": [
        "y_train"
      ],
      "metadata": {
        "colab": {
          "base_uri": "https://localhost:8080/"
        },
        "id": "jh3geLLw36G6",
        "outputId": "50cb22cf-21ae-42c1-8e1c-7e622342608f"
      },
      "execution_count": 12,
      "outputs": [
        {
          "output_type": "execute_result",
          "data": {
            "text/plain": [
              "array([1., 0., 0., ..., 0., 1., 0.], dtype=float32)"
            ]
          },
          "metadata": {},
          "execution_count": 12
        }
      ]
    },
    {
      "cell_type": "code",
      "source": [
        "# Here DL model definition\n",
        "\n",
        "from tensorflow import keras\n",
        "from tensorflow.keras import layers\n",
        "\n",
        "model = keras.Sequential([\n",
        "    layers.Dense(16, activation=\"relu\"),\n",
        "    layers.Dense(16, activation=\"relu\"),\n",
        "    layers.Dense(1, activation=\"tanh\")   \n",
        "])"
      ],
      "metadata": {
        "id": "TOqfppaT39og"
      },
      "execution_count": 72,
      "outputs": []
    },
    {
      "cell_type": "code",
      "source": [
        "model.compile(optimizer=\"rmsprop\",\n",
        "              loss=\"binary_crossentropy\",\n",
        "              metrics=[\"accuracy\"])"
      ],
      "metadata": {
        "id": "fyfvuO6A4n6C"
      },
      "execution_count": 73,
      "outputs": []
    },
    {
      "cell_type": "code",
      "source": [
        "# Here split the test data into two parts to validate the model\n",
        "x_val = x_train[:10000]\n",
        "partial_x_train = x_train[10000:]\n",
        "y_val = y_train[:10000]\n",
        "partial_y_train = y_train[10000:]"
      ],
      "metadata": {
        "id": "5eIs703j48fQ"
      },
      "execution_count": 66,
      "outputs": []
    },
    {
      "cell_type": "code",
      "source": [
        "history = model.fit(partial_x_train,\n",
        "                    partial_y_train,\n",
        "                    epochs=15,\n",
        "                    batch_size=512,\n",
        "                    validation_data=(x_val, y_val))"
      ],
      "metadata": {
        "colab": {
          "base_uri": "https://localhost:8080/"
        },
        "id": "W76L74B45aR9",
        "outputId": "68e6ca1d-8e39-4398-c3f0-2de4a9440d93"
      },
      "execution_count": 74,
      "outputs": [
        {
          "output_type": "stream",
          "name": "stdout",
          "text": [
            "Epoch 1/15\n",
            "30/30 [==============================] - 3s 67ms/step - loss: 0.8150 - accuracy: 0.6525 - val_loss: 0.4374 - val_accuracy: 0.8232\n",
            "Epoch 2/15\n",
            "30/30 [==============================] - 1s 41ms/step - loss: 0.3585 - accuracy: 0.8754 - val_loss: 0.3722 - val_accuracy: 0.8693\n",
            "Epoch 3/15\n",
            "30/30 [==============================] - 2s 54ms/step - loss: 0.2718 - accuracy: 0.9176 - val_loss: 0.3675 - val_accuracy: 0.8705\n",
            "Epoch 4/15\n",
            "30/30 [==============================] - 2s 57ms/step - loss: 0.2194 - accuracy: 0.9367 - val_loss: 0.3846 - val_accuracy: 0.8349\n",
            "Epoch 5/15\n",
            "30/30 [==============================] - 1s 48ms/step - loss: 0.1819 - accuracy: 0.9505 - val_loss: 0.3897 - val_accuracy: 0.8714\n",
            "Epoch 6/15\n",
            "30/30 [==============================] - 1s 42ms/step - loss: 0.1516 - accuracy: 0.9633 - val_loss: 0.5424 - val_accuracy: 0.8822\n",
            "Epoch 7/15\n",
            "30/30 [==============================] - 1s 40ms/step - loss: 0.1270 - accuracy: 0.9727 - val_loss: 0.6861 - val_accuracy: 0.8760\n",
            "Epoch 8/15\n",
            "30/30 [==============================] - 1s 41ms/step - loss: 0.1131 - accuracy: 0.9786 - val_loss: 0.6663 - val_accuracy: 0.8782\n",
            "Epoch 9/15\n",
            "30/30 [==============================] - 1s 41ms/step - loss: 0.0981 - accuracy: 0.9824 - val_loss: 0.5842 - val_accuracy: 0.8771\n",
            "Epoch 10/15\n",
            "30/30 [==============================] - 1s 39ms/step - loss: 0.0987 - accuracy: 0.9864 - val_loss: 0.5996 - val_accuracy: 0.8777\n",
            "Epoch 11/15\n",
            "30/30 [==============================] - 1s 42ms/step - loss: 0.0764 - accuracy: 0.9898 - val_loss: 0.6427 - val_accuracy: 0.8770\n",
            "Epoch 12/15\n",
            "30/30 [==============================] - 1s 40ms/step - loss: 0.0715 - accuracy: 0.9911 - val_loss: 0.6408 - val_accuracy: 0.8746\n",
            "Epoch 13/15\n",
            "30/30 [==============================] - 2s 54ms/step - loss: 0.0600 - accuracy: 0.9949 - val_loss: 0.6873 - val_accuracy: 0.8756\n",
            "Epoch 14/15\n",
            "30/30 [==============================] - 2s 69ms/step - loss: 0.0628 - accuracy: 0.9938 - val_loss: 0.7107 - val_accuracy: 0.8751\n",
            "Epoch 15/15\n",
            "30/30 [==============================] - 1s 40ms/step - loss: 0.0592 - accuracy: 0.9929 - val_loss: 0.6403 - val_accuracy: 0.8666\n"
          ]
        }
      ]
    },
    {
      "cell_type": "code",
      "source": [
        "history_dict = history.history"
      ],
      "metadata": {
        "id": "vvljpMrq5xJe"
      },
      "execution_count": 75,
      "outputs": []
    },
    {
      "cell_type": "code",
      "source": [
        "history_dict.keys()"
      ],
      "metadata": {
        "colab": {
          "base_uri": "https://localhost:8080/"
        },
        "id": "CDprrpjc7NNw",
        "outputId": "1dd8ea8d-02d6-4ba6-a6b4-27ad16339038"
      },
      "execution_count": 58,
      "outputs": [
        {
          "output_type": "execute_result",
          "data": {
            "text/plain": [
              "dict_keys(['loss', 'accuracy', 'val_loss', 'val_accuracy'])"
            ]
          },
          "metadata": {},
          "execution_count": 58
        }
      ]
    },
    {
      "cell_type": "code",
      "source": [
        "import matplotlib.pyplot as plt\n",
        "history_dict = history.history\n",
        "loss_values = history_dict[\"loss\"]\n",
        "val_loss_values=history_dict[\"val_loss\"]\n",
        "epochs = range(1, len(loss_values)+1)\n",
        "plt.plot(epochs, loss_values, \"b\", label = \"Training loss\")\n",
        "plt.plot(epochs, val_loss_values, \"bo\", label = 'Validation loss')\n",
        "plt.xlabel(\"Epochs\")\n",
        "plt.ylabel(\"Loss\")"
      ],
      "metadata": {
        "colab": {
          "base_uri": "https://localhost:8080/",
          "height": 466
        },
        "id": "X_VkpDV27Pwv",
        "outputId": "7ac40b04-d2ca-4402-a783-dfccdc9fbe30"
      },
      "execution_count": 76,
      "outputs": [
        {
          "output_type": "execute_result",
          "data": {
            "text/plain": [
              "Text(0, 0.5, 'Loss')"
            ]
          },
          "metadata": {},
          "execution_count": 76
        },
        {
          "output_type": "display_data",
          "data": {
            "text/plain": [
              "<Figure size 640x480 with 1 Axes>"
            ],
            "image/png": "[encoded data removed]"
          },
          "metadata": {}
        }
      ]
    },
    {
      "cell_type": "code",
      "source": [
        "plt.clf()\n",
        "acc = history_dict[\"accuracy\"]\n",
        "val_acc = history_dict[\"val_accuracy\"]\n",
        "\n",
        "epochs = range(1, len(loss_values)+1)\n",
        "plt.plot(epochs, acc, \"b\", label = \"Training accuracy\")\n",
        "plt.plot(epochs, val_acc, \"bo\", label = 'Validation accuracy')\n",
        "plt.xlabel(\"Epochs\")\n",
        "plt.ylabel(\"Accuracy\")"
      ],
      "metadata": {
        "colab": {
          "base_uri": "https://localhost:8080/",
          "height": 466
        },
        "id": "awisiMsz7sYU",
        "outputId": "fef1d14f-e39e-4dda-b656-40221653d5e8"
      },
      "execution_count": 77,
      "outputs": [
        {
          "output_type": "execute_result",
          "data": {
            "text/plain": [
              "Text(0, 0.5, 'Accuracy')"
            ]
          },
          "metadata": {},
          "execution_count": 77
        },
        {
          "output_type": "display_data",
          "data": {
            "text/plain": [
              "<Figure size 640x480 with 1 Axes>"
            ],
            "image/png": "[encoded data removed]"
          },
          "metadata": {}
        }
      ]
    },
    {
      "cell_type": "code",
      "source": [
        "# Retrain a model from scratch\n",
        "\n",
        "model = keras.Sequential([\n",
        "    layers.Dense(16, activation=\"relu\"),\n",
        "    layers.Dense(16, activation=\"relu\"),\n",
        "    layers.Dense(1, activation=\"sigmoid\")\n",
        "])\n",
        "\n",
        "model.compile(optimizer=\"rmsprop\",\n",
        "              loss=\"binary_crossentropy\",\n",
        "              metrics=[\"accuracy\"])\n",
        "model.fit(x_train, y_train, epochs=4, batch_size=512)\n",
        "results = model.evaluate(x_test,y_test)"
      ],
      "metadata": {
        "colab": {
          "base_uri": "https://localhost:8080/"
        },
        "id": "rw5bitH18x_d",
        "outputId": "9aca5f87-91cb-4229-a427-da5f9790b248"
      },
      "execution_count": 22,
      "outputs": [
        {
          "output_type": "stream",
          "name": "stdout",
          "text": [
            "Epoch 1/4\n",
            "49/49 [==============================] - 3s 43ms/step - loss: 0.5207 - accuracy: 0.7723\n",
            "Epoch 2/4\n",
            "49/49 [==============================] - 1s 29ms/step - loss: 0.3688 - accuracy: 0.8511\n",
            "Epoch 3/4\n",
            "49/49 [==============================] - 1s 29ms/step - loss: 0.3275 - accuracy: 0.8660\n",
            "Epoch 4/4\n",
            "49/49 [==============================] - 1s 28ms/step - loss: 0.3184 - accuracy: 0.8710\n",
            "782/782 [==============================] - 2s 3ms/step - loss: 0.3252 - accuracy: 0.8620\n"
          ]
        }
      ]
    },
    {
      "cell_type": "code",
      "source": [
        "results\n",
        "#the first number is test loss and the second test accuracy"
      ],
      "metadata": {
        "colab": {
          "base_uri": "https://localhost:8080/"
        },
        "id": "0plZ8buv-Yzz",
        "outputId": "6e0d202d-d5bf-44ee-a920-0b895d2c0d18"
      },
      "execution_count": 23,
      "outputs": [
        {
          "output_type": "execute_result",
          "data": {
            "text/plain": [
              "[0.3252441883087158, 0.8619599938392639]"
            ]
          },
          "metadata": {},
          "execution_count": 23
        }
      ]
    },
    {
      "cell_type": "code",
      "source": [
        "model.predict(x_test)"
      ],
      "metadata": {
        "colab": {
          "base_uri": "https://localhost:8080/"
        },
        "id": "E9GM8Jtj-e2U",
        "outputId": "0184c286-6311-4072-e51b-dc6e74c91a60"
      },
      "execution_count": 24,
      "outputs": [
        {
          "output_type": "stream",
          "name": "stdout",
          "text": [
            "782/782 [==============================] - 2s 3ms/step\n"
          ]
        },
        {
          "output_type": "execute_result",
          "data": {
            "text/plain": [
              "array([[0.3271178 ],\n",
              "       [0.99826944],\n",
              "       [0.45812228],\n",
              "       ...,\n",
              "       [0.09299625],\n",
              "       [0.10442916],\n",
              "       [0.39764148]], dtype=float32)"
            ]
          },
          "metadata": {},
          "execution_count": 24
        }
      ]
    },
    {
      "cell_type": "code",
      "source": [],
      "metadata": {
        "id": "fCQ5ZyRZ-4Qn"
      },
      "execution_count": null,
      "outputs": []
    }
  ]
}